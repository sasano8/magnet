{
 "cells": [
  {
   "cell_type": "code",
   "execution_count": 4,
   "metadata": {},
   "outputs": [],
   "source": []
  },
  {
   "cell_type": "code",
   "execution_count": null,
   "metadata": {},
   "outputs": [],
   "source": [
    "from magnet import Base\n",
    "\n",
    "tables = [x for x in Base.metadata.tables.values()]\n",
    "\n",
    "arr = []\n",
    "\n",
    "for table in tables:\n",
    "    \"\"\"\n",
    "    'key', \n",
    "    'name',\n",
    "    'table',\n",
    "    'type',\n",
    "    'is_literal',\n",
    "    'primary_key',\n",
    "    'nullable',\n",
    "    'default',\n",
    "    'server_default',\n",
    "    'server_onupdate',\n",
    "    'index',\n",
    "    'unique',\n",
    "    'system',\n",
    "    'doc',\n",
    "    'onupdate',\n",
    "    'autoincrement',\n",
    "    'constraints',\n",
    "    'foreign_keys',\n",
    "    'comment',\n",
    "    'computed',\n",
    "    '_creation_order',\n",
    "    'dispatch',\n",
    "    'proxy_set',\n",
    "    'description',\n",
    "    'comparator',\n",
    "    '_cloned_set',\n",
    "    '_from_objects',\n",
    "    '_label',\n",
    "    '_key_label',\n",
    "    '_render_label_in_columns_clause'\n",
    "    \"\"\"\n",
    "    \n",
    "    arr.append(\"## \" + table.name)\n",
    "    if table.comment:\n",
    "        arr.append(table.comment)\n",
    "    arr.append(\"| name | type | pk | nullable | default | unique | comment |\")\n",
    "    arr.append(\"| :--- | :---: | :---: | :---: | :---: | :---: | ---: |\")\n",
    "    for column in table._columns.values():\n",
    "        \n",
    "        try:\n",
    "            str_type = str(column.type)\n",
    "        except:\n",
    "            str_type = \"多分JSON\"\n",
    "        \n",
    "        s = \"| {name} | {type} | {pk} | {nullable} | {default} | {unique} | {comment} |\".format(\n",
    "            name=column.name,\n",
    "            type=str_type,\n",
    "            pk=column.primary_key,\n",
    "            nullable=column.nullable,\n",
    "            default=column.default,\n",
    "            unique=column.unique,\n",
    "            comment=column.index,\n",
    "        )\n",
    "        arr.append(s)\n",
    "        \n",
    "    arr.append(\"\")\n",
    "\n",
    "print(\"\\n\".join(arr))\n",
    "\n"
   ]
  },
  {
   "cell_type": "code",
   "execution_count": null,
   "metadata": {},
   "outputs": [],
   "source": []
  }
 ],
 "metadata": {
  "kernelspec": {
   "display_name": "Python 3",
   "language": "python",
   "name": "python3"
  },
  "language_info": {
   "codemirror_mode": {
    "name": "ipython",
    "version": 3
   },
   "file_extension": ".py",
   "mimetype": "text/x-python",
   "name": "python",
   "nbconvert_exporter": "python",
   "pygments_lexer": "ipython3",
   "version": "3.8.0"
  },
  "varInspector": {
   "cols": {
    "lenName": 16,
    "lenType": 16,
    "lenVar": 40
   },
   "kernels_config": {
    "python": {
     "delete_cmd_postfix": "",
     "delete_cmd_prefix": "del ",
     "library": "var_list.py",
     "varRefreshCmd": "print(var_dic_list())"
    },
    "r": {
     "delete_cmd_postfix": ") ",
     "delete_cmd_prefix": "rm(",
     "library": "var_list.r",
     "varRefreshCmd": "cat(var_dic_list()) "
    }
   },
   "types_to_exclude": [
    "module",
    "function",
    "builtin_function_or_method",
    "instance",
    "_Feature"
   ],
   "window_display": false
  }
 },
 "nbformat": 4,
 "nbformat_minor": 4
}
